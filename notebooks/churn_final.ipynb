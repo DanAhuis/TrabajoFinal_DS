{
 "cells": [
  {
   "cell_type": "markdown",
   "id": "9c920f84",
   "metadata": {},
   "source": [
    "# 📊 Predicción de Churn en Telecom\n",
    "\n",
    "Este notebook desarrolla el flujo de trabajo del proyecto final de **Metodología para Data Science**.\n",
    "\n",
    "Dataset: [Telco Customer Churn (IBM)](https://www.kaggle.com/datasets/blastchar/telco-customer-churn)\n"
   ]
  },
  {
   "cell_type": "code",
   "execution_count": null,
   "id": "22b4b74b",
   "metadata": {},
   "outputs": [],
   "source": [
    "# Instalación de librerías (si es necesario)\n",
    "# !pip install pandas numpy scikit-learn xgboost matplotlib seaborn\n",
    "\n",
    "import pandas as pd\n",
    "import numpy as np\n",
    "import matplotlib.pyplot as plt\n",
    "import seaborn as sns\n",
    "\n",
    "from sklearn.model_selection import train_test_split\n",
    "from sklearn.preprocessing import StandardScaler\n",
    "from sklearn.metrics import accuracy_score, recall_score, roc_auc_score, confusion_matrix, classification_report\n",
    "\n",
    "from sklearn.linear_model import LogisticRegression\n",
    "from sklearn.ensemble import RandomForestClassifier\n",
    "from xgboost import XGBClassifier\n"
   ]
  },
  {
   "cell_type": "code",
   "execution_count": null,
   "id": "0c483d79",
   "metadata": {},
   "outputs": [],
   "source": [
    "# Cargar dataset (ajusta la ruta a donde guardes el archivo)\n",
    "df = pd.read_csv('data/Telco-Customer-Churn.csv')\n",
    "\n",
    "print(\"Dimensiones:\", df.shape)\n",
    "df.head()"
   ]
  },
  {
   "cell_type": "code",
   "execution_count": null,
   "id": "45714b03",
   "metadata": {},
   "outputs": [],
   "source": [
    "# Preprocesamiento básico\n",
    "\n",
    "# Eliminar filas con valores vacíos en TotalCharges\n",
    "df['TotalCharges'] = pd.to_numeric(df['TotalCharges'], errors='coerce')\n",
    "df = df.dropna(subset=['TotalCharges'])\n",
    "\n",
    "# Codificación de variables categóricas\n",
    "df_encoded = pd.get_dummies(df.drop('customerID', axis=1), drop_first=True)\n",
    "\n",
    "# Separar variables predictoras y objetivo\n",
    "X = df_encoded.drop('Churn_Yes', axis=1)\n",
    "y = df_encoded['Churn_Yes']\n",
    "\n",
    "# Escalado de variables numéricas\n",
    "scaler = StandardScaler()\n",
    "X_scaled = scaler.fit_transform(X)\n",
    "\n",
    "# Split de entrenamiento y prueba\n",
    "X_train, X_test, y_train, y_test = train_test_split(X_scaled, y, test_size=0.2, random_state=42, stratify=y)\n",
    "\n",
    "print(\"Conjunto de entrenamiento:\", X_train.shape, \"Conjunto de prueba:\", X_test.shape)"
   ]
  },
  {
   "cell_type": "code",
   "execution_count": null,
   "id": "d5490769",
   "metadata": {},
   "outputs": [],
   "source": [
    "# Entrenamiento de modelos\n",
    "\n",
    "# Logistic Regression\n",
    "log_reg = LogisticRegression(max_iter=1000)\n",
    "log_reg.fit(X_train, y_train)\n",
    "y_pred_lr = log_reg.predict(X_test)\n",
    "\n",
    "# Random Forest\n",
    "rf = RandomForestClassifier(n_estimators=200, random_state=42)\n",
    "rf.fit(X_train, y_train)\n",
    "y_pred_rf = rf.predict(X_test)\n",
    "\n",
    "# XGBoost\n",
    "xgb = XGBClassifier(use_label_encoder=False, eval_metric='logloss', random_state=42)\n",
    "xgb.fit(X_train, y_train)\n",
    "y_pred_xgb = xgb.predict(X_test)\n"
   ]
  },
  {
   "cell_type": "code",
   "execution_count": null,
   "id": "5e8db57c",
   "metadata": {},
   "outputs": [],
   "source": [
    "# Función de evaluación\n",
    "def evaluar_modelo(y_test, y_pred, nombre):\n",
    "    print(f\"\\nModelo: {nombre}\")\n",
    "    print(\"Accuracy:\", accuracy_score(y_test, y_pred))\n",
    "    print(\"Recall:\", recall_score(y_test, y_pred))\n",
    "    print(\"ROC-AUC:\", roc_auc_score(y_test, y_pred))\n",
    "    print(\"\\nReporte de Clasificación:\\n\", classification_report(y_test, y_pred))\n",
    "    sns.heatmap(confusion_matrix(y_test, y_pred), annot=True, fmt='d', cmap='Blues')\n",
    "    plt.title(f\"Matriz de Confusión - {nombre}\")\n",
    "    plt.show()\n",
    "\n",
    "# Evaluar los tres modelos\n",
    "evaluar_modelo(y_test, y_pred_lr, \"Logistic Regression\")\n",
    "evaluar_modelo(y_test, y_pred_rf, \"Random Forest\")\n",
    "evaluar_modelo(y_test, y_pred_xgb, \"XGBoost\")"
   ]
  },
  {
   "cell_type": "markdown",
   "id": "d1160d7b",
   "metadata": {},
   "source": [
    "## ✅ Conclusiones iniciales\n",
    "\n",
    "- Se entrenaron tres modelos: Logistic Regression, Random Forest y XGBoost.\n",
    "- Las métricas clave fueron **Accuracy**, **Recall** (para churn) y **ROC-AUC**.\n",
    "- El siguiente paso será comparar los resultados y definir el modelo con mejor desempeño.\n"
   ]
  }
 ],
 "metadata": {},
 "nbformat": 4,
 "nbformat_minor": 5
}
